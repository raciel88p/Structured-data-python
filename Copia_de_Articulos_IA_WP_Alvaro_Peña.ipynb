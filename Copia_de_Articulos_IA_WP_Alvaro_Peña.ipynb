{
  "nbformat": 4,
  "nbformat_minor": 0,
  "metadata": {
    "colab": {
      "provenance": [],
      "include_colab_link": true
    },
    "kernelspec": {
      "name": "python3",
      "display_name": "Python 3"
    },
    "language_info": {
      "name": "python"
    }
  },
  "cells": [
    {
      "cell_type": "markdown",
      "metadata": {
        "id": "view-in-github",
        "colab_type": "text"
      },
      "source": [
        "<a href=\"https://colab.research.google.com/github/raciel88p/Structured-data-python/blob/main/Copia_de_Articulos_IA_WP_Alvaro_Pe%C3%B1a.ipynb\" target=\"_parent\"><img src=\"https://colab.research.google.com/assets/colab-badge.svg\" alt=\"Open In Colab\"/></a>"
      ]
    },
    {
      "cell_type": "code",
      "source": [
        "# Script generado por Álvaro Peña @isocialwebseo en twitter. Tienes libertad para modificar, mejorar y compartir parte o la totalidad del contenido de este script. \n",
        "# Eso sí, haz un uso responsable del mismo.\n",
        "\n",
        "#Instalamos las dependencias necesarias\n",
        "!pip install python-wordpress-xmlrpc\n",
        "!pip install openai pandas requests"
      ],
      "metadata": {
        "id": "PKKQYf0aQdAF"
      },
      "execution_count": null,
      "outputs": []
    },
    {
      "cell_type": "code",
      "execution_count": null,
      "metadata": {
        "id": "HXyZLBOwPgVV"
      },
      "outputs": [],
      "source": [
        "# Subimos el archivo CSV con nombre de archivo: articulos.csv que contiene las keywords extraidas de Ahrefs, semrush, GSC... Tienen que estar en una única columna y la primera casillas llamarse title\n",
        "from google.colab import files\n",
        "uploaded = files.upload()\n",
        "\n",
        "import openai\n",
        "import re\n",
        "import base64\n",
        "import requests\n",
        "import pandas as pd\n",
        "from wordpress_xmlrpc import Client, WordPressPost\n",
        "from wordpress_xmlrpc.methods.posts import GetPosts, NewPost\n",
        "\n",
        "# Leemos el archivo CSV que subimos al entorno de Colab\n",
        "df = pd.read_csv('articulos.csv')\n",
        "\n",
        "#RELLENAR: Añade aquí tu API de OpenAI\n",
        "openai.api_key = \"API-OPENAI\"\n",
        "# wp credentials\n",
        "\n",
        "#RELLENAR: Añade aquí tus credenciales de Wordpress\n",
        "user = \"USUARIO\"\n",
        "password = \"CONTRASEÑAS\"\n",
        "url = \"https://DOMINIO/wp-login.php\"\n",
        "\n",
        "\n",
        "for titulo in df['title']:\n",
        "  try:\n",
        "    # -------------------------\n",
        "\n",
        "    input_titulo = \"Genera un título llamativo para un artículo con la siguiente cadena: \" + str(titulo)\n",
        "\n",
        "    resp_titulo = openai.Completion.create(\n",
        "        model=\"text-davinci-003\",\n",
        "        prompt=input_titulo,\n",
        "        max_tokens=100,\n",
        "        temperature=0.7,\n",
        "    )\n",
        "\n",
        "    resp_titulo = (resp_titulo.choices[0].text) \n",
        "    resp_titulo = resp_titulo.replace('\"', '')\n",
        "    print(\"Titulo: \", resp_titulo)\n",
        "\n",
        "    input_contenido = \"Genera un artículo completos de mínimo 700 palabras y máximo 1500 con el título: \" + resp_titulo + \" interesante para el usuario, con subtítulos en HTML con H2, acaba todas las frases aunque el texto se exceda del máximo. En este artículo se deben responder las principales dudas que tienen los usuarios en Google sobre este tema, responder sus preguntas frecuentes.\"\n",
        "\n",
        "    resp_contenido = openai.Completion.create(\n",
        "        model=\"text-davinci-003\",\n",
        "        prompt=input_contenido,\n",
        "        max_tokens=1500,\n",
        "        temperature=0.7,\n",
        "    )\n",
        "\n",
        "    summary = (resp_contenido.choices[0].text)\n",
        "    summary = summary.replace('\"', '')\n",
        "\n",
        "    # RELLENAR: Vuelve a añadir tu usuario de wordpress y en el password la clave que se genera en tu usuario de WP, desde la sección perfil en \"Contraseñas de aplicación\" pones el nombre que quieras y pegas la contraseña que te genera\n",
        "    login = 'USUARIO'\n",
        "    password = 'CONTRASEÑA'\n",
        "\n",
        "    # RELLENAR: Establecer la URL de la API de WordPress y los encabezados de autorización\n",
        "    url = 'https://DOMINIO/wp-json/wp/v2/posts'\n",
        "    headers = {\n",
        "        'Authorization': 'Basic ' + base64.b64encode(f\"{login}:{password}\".encode()).decode()\n",
        "    }\n",
        "\n",
        "    # Establecer el cuerpo de la solicitud con el título y el estado del post\n",
        "    data = {\n",
        "        'title': resp_titulo,\n",
        "        'content': summary,\n",
        "        'status': 'publish'\n",
        "    }\n",
        "\n",
        "    # Realizar la solicitud POST\n",
        "    response = requests.post(url, headers=headers, json=data)\n",
        "\n",
        "    # Verificar el estado de la respuesta\n",
        "    if response.status_code == 201:\n",
        "        print('Post creado correctamente')\n",
        "    else:\n",
        "        print('Error al crear el post')\n",
        "\n",
        "  except Exception:\n",
        "    print(\"Error general\")"
      ]
    }
  ]
}