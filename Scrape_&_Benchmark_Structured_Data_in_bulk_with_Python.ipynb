{
  "nbformat": 4,
  "nbformat_minor": 0,
  "metadata": {
    "colab": {
      "name": "Scrape & Benchmark Structured Data in bulk with Python",
      "provenance": [],
      "collapsed_sections": [],
      "include_colab_link": true
    },
    "kernelspec": {
      "name": "python3",
      "display_name": "Python 3"
    },
    "language_info": {
      "name": "python"
    },
    "accelerator": "GPU"
  },
  "cells": [
    {
      "cell_type": "markdown",
      "metadata": {
        "id": "view-in-github",
        "colab_type": "text"
      },
      "source": [
        "<a href=\"https://colab.research.google.com/github/simodepth/Structured-data/blob/main/Scrape_%26_Benchmark_Structured_Data_in_bulk_with_Python.ipynb\" target=\"_parent\"><img src=\"https://colab.research.google.com/assets/colab-badge.svg\" alt=\"Open In Colab\"/></a>"
      ]
    },
    {
      "cell_type": "markdown",
      "source": [
        "#How to extract and compare structured data against competitors in bulk\n",
        "\n",
        "Structured represent a goldmine in your technical SEO asset as a widely detailed implementation of schemas may positively impact CTR and overall visibility by stimulating Google to tip your webpages with 'sexy' SERP features.\n",
        "\n",
        "If you're looking for a quick win-win process for retrieving not only your website structured data but also the ones applied by your competitors, this script will cut off loads of time consuming manual research.\n"
      ],
      "metadata": {
        "id": "5EA2pOjJyVv2"
      }
    },
    {
      "cell_type": "code",
      "execution_count": null,
      "metadata": {
        "colab": {
          "base_uri": "https://localhost:8080/"
        },
        "id": "yKw27It1DzPV",
        "outputId": "4e23c85d-738b-41eb-8df3-4b64e104636a"
      },
      "outputs": [
        {
          "output_type": "stream",
          "name": "stdout",
          "text": [
            "Collecting extruct\n",
            "  Downloading extruct-0.13.0-py2.py3-none-any.whl (25 kB)\n",
            "Collecting pyrdfa3\n",
            "  Downloading pyRdfa3-3.5.3-py3-none-any.whl (121 kB)\n",
            "\u001b[K     |████████████████████████████████| 121 kB 5.8 MB/s \n",
            "\u001b[?25hRequirement already satisfied: six in /usr/local/lib/python3.7/dist-packages (from extruct) (1.15.0)\n",
            "Collecting jstyleson\n",
            "  Downloading jstyleson-0.0.2.tar.gz (2.0 kB)\n",
            "Collecting rdflib\n",
            "  Downloading rdflib-6.1.1-py3-none-any.whl (482 kB)\n",
            "\u001b[K     |████████████████████████████████| 482 kB 32.0 MB/s \n",
            "\u001b[?25hCollecting html-text>=0.5.1\n",
            "  Downloading html_text-0.5.2-py2.py3-none-any.whl (7.5 kB)\n",
            "Collecting mf2py\n",
            "  Downloading mf2py-1.1.2.tar.gz (25 kB)\n",
            "Collecting w3lib\n",
            "  Downloading w3lib-1.22.0-py2.py3-none-any.whl (20 kB)\n",
            "Requirement already satisfied: lxml in /usr/local/lib/python3.7/dist-packages (from extruct) (4.2.6)\n",
            "Collecting rdflib-jsonld\n",
            "  Downloading rdflib_jsonld-0.6.2-py2.py3-none-any.whl (4.0 kB)\n",
            "Requirement already satisfied: html5lib>=1.0.1 in /usr/local/lib/python3.7/dist-packages (from mf2py->extruct) (1.0.1)\n",
            "Requirement already satisfied: requests>=2.18.4 in /usr/local/lib/python3.7/dist-packages (from mf2py->extruct) (2.23.0)\n",
            "Requirement already satisfied: BeautifulSoup4>=4.6.0 in /usr/local/lib/python3.7/dist-packages (from mf2py->extruct) (4.6.3)\n",
            "Requirement already satisfied: webencodings in /usr/local/lib/python3.7/dist-packages (from html5lib>=1.0.1->mf2py->extruct) (0.5.1)\n",
            "Requirement already satisfied: idna<3,>=2.5 in /usr/local/lib/python3.7/dist-packages (from requests>=2.18.4->mf2py->extruct) (2.10)\n",
            "Requirement already satisfied: urllib3!=1.25.0,!=1.25.1,<1.26,>=1.21.1 in /usr/local/lib/python3.7/dist-packages (from requests>=2.18.4->mf2py->extruct) (1.24.3)\n",
            "Requirement already satisfied: certifi>=2017.4.17 in /usr/local/lib/python3.7/dist-packages (from requests>=2.18.4->mf2py->extruct) (2021.10.8)\n",
            "Requirement already satisfied: chardet<4,>=3.0.2 in /usr/local/lib/python3.7/dist-packages (from requests>=2.18.4->mf2py->extruct) (3.0.4)\n",
            "Requirement already satisfied: pyparsing in /usr/local/lib/python3.7/dist-packages (from rdflib->extruct) (3.0.8)\n",
            "Collecting isodate\n",
            "  Downloading isodate-0.6.1-py2.py3-none-any.whl (41 kB)\n",
            "\u001b[K     |████████████████████████████████| 41 kB 527 kB/s \n",
            "\u001b[?25hRequirement already satisfied: importlib-metadata in /usr/local/lib/python3.7/dist-packages (from rdflib->extruct) (4.11.3)\n",
            "Requirement already satisfied: setuptools in /usr/local/lib/python3.7/dist-packages (from rdflib->extruct) (57.4.0)\n",
            "Requirement already satisfied: typing-extensions>=3.6.4 in /usr/local/lib/python3.7/dist-packages (from importlib-metadata->rdflib->extruct) (4.2.0)\n",
            "Requirement already satisfied: zipp>=0.5 in /usr/local/lib/python3.7/dist-packages (from importlib-metadata->rdflib->extruct) (3.8.0)\n",
            "Building wheels for collected packages: jstyleson, mf2py\n",
            "  Building wheel for jstyleson (setup.py) ... \u001b[?25l\u001b[?25hdone\n",
            "  Created wheel for jstyleson: filename=jstyleson-0.0.2-py3-none-any.whl size=2402 sha256=33c00ac11641c7195e5c316281f1e51bb2eac9419f611586da9792e2300a050d\n",
            "  Stored in directory: /root/.cache/pip/wheels/be/8e/03/d5962b9032cc1b638d1891a3bfbfdc6627cac531754f79ef23\n",
            "  Building wheel for mf2py (setup.py) ... \u001b[?25l\u001b[?25hdone\n",
            "  Created wheel for mf2py: filename=mf2py-1.1.2-py3-none-any.whl size=23244 sha256=7a32c23f339bcf23a4c8cfdd9088175f6907f3598f2374d35df9d77a6e949487\n",
            "  Stored in directory: /root/.cache/pip/wheels/d9/47/72/d1f19d30e8dd2c06e7084d93ea90ab5ec60c6db488398c67db\n",
            "Successfully built jstyleson mf2py\n",
            "Installing collected packages: isodate, rdflib, w3lib, rdflib-jsonld, pyrdfa3, mf2py, jstyleson, html-text, extruct\n",
            "Successfully installed extruct-0.13.0 html-text-0.5.2 isodate-0.6.1 jstyleson-0.0.2 mf2py-1.1.2 pyrdfa3-3.5.3 rdflib-6.1.1 rdflib-jsonld-0.6.2 w3lib-1.22.0\n",
            "\u001b[31mERROR: Could not find a version that satisfies the requirement w3lib.htmml (from versions: none)\u001b[0m\n",
            "\u001b[31mERROR: No matching distribution found for w3lib.htmml\u001b[0m\n"
          ]
        }
      ],
      "source": [
        "#@title Install Modules\n",
        "!pip install extruct\n",
        "!pip install w3lib.htmml"
      ]
    },
    {
      "cell_type": "code",
      "source": [
        "#@title Import Modules\n",
        "import pandas as pd\n",
        "import extruct\n",
        "import requests\n",
        "from w3lib.html import get_base_url\n",
        "from urllib.parse import urlparse"
      ],
      "metadata": {
        "id": "C_8u5ZzME27M"
      },
      "execution_count": null,
      "outputs": []
    },
    {
      "cell_type": "markdown",
      "source": [
        "#Have an unlimited list of competing URLs to scrape"
      ],
      "metadata": {
        "id": "1ZoSva08Lf_q"
      }
    },
    {
      "cell_type": "code",
      "source": [
        "sites = ['https://www.liverpoolfc.com/',\n",
        "         'https://www.liverpoolfc.com/news',\n",
        "         'https://legacy.liverpoolfc.com/',\n",
        "         'https://video.liverpoolfc.com/',\n",
        "         'https://matchcentre.liverpoolfc.com/']"
      ],
      "metadata": {
        "id": "ux4y9nk2EYca"
      },
      "execution_count": null,
      "outputs": []
    },
    {
      "cell_type": "markdown",
      "source": [
        "#Extract the metadata for one sample page"
      ],
      "metadata": {
        "id": "H3CLZXY9L-Eb"
      }
    },
    {
      "cell_type": "code",
      "source": [
        "def extract_metadata(url):\n",
        "\n",
        "    r = requests.get(url)\n",
        "    base_url = get_base_url(r.text, r.url)\n",
        "    metadata = extruct.extract(r.text, \n",
        "                               base_url=base_url,\n",
        "                               uniform=True,\n",
        "                               syntaxes=['json-ld',\n",
        "                                         'microdata',\n",
        "                                         'opengraph',\n",
        "                                         'rdfa'])\n",
        "    return metadata"
      ],
      "metadata": {
        "id": "U45YuJ9xGYrR"
      },
      "execution_count": null,
      "outputs": []
    },
    {
      "cell_type": "code",
      "source": [
        "metadata = extract_metadata('https://www.liverpoolfc.com/')\n",
        "metadata"
      ],
      "metadata": {
        "colab": {
          "base_uri": "https://localhost:8080/"
        },
        "id": "iQk05XoXGaMI",
        "outputId": "2dc5c9e3-0877-43eb-bcc9-92707112dfab"
      },
      "execution_count": null,
      "outputs": [
        {
          "output_type": "execute_result",
          "data": {
            "text/plain": [
              "{'json-ld': [{'@context': 'https://schema.org',\n",
              "   '@type': 'WebPage',\n",
              "   'breadcrumb': 'Home',\n",
              "   'headline': 'Liverpool FC - Homepage',\n",
              "   'publisher': {'@type': 'Organization',\n",
              "    'address': '5 St Paul’s Square, Liverpool, L3 9SLiverpool Football Club and Athletic Grounds Limited Anfield Road, Liverpool, L4 0TH.',\n",
              "    'description': \"Liverpool FC, LFC, is one of the world's most successful Football Clubs, with 48 major Mens Team Honours. LFC play in the Premier League in England, the Club was formed in 1892. Their home stadium is Anfield, Liverpool.\",\n",
              "    'email': 'contactus@liverpoolfc.com',\n",
              "    'logo': {'@type': 'ImageObject',\n",
              "     'height': '109',\n",
              "     'url': 'https://www.liverpoolfc.com/liverpoolfc_crest.png',\n",
              "     'width': '80'},\n",
              "    'name': 'Liverpool FC',\n",
              "    'url': 'https://www.liverpoolfc.com'}}],\n",
              " 'microdata': [],\n",
              " 'opengraph': [{'@context': {'og': 'http://ogp.me/ns#'},\n",
              "   '@type': 'website',\n",
              "   'og:locale': 'en_GB',\n",
              "   'og:title': 'Liverpool FC - Homepage',\n",
              "   'og:url': '//www.liverpoolfc.com/'}],\n",
              " 'rdfa': [{'@id': '_:Nb90e182aa7a74601996a0fa202af1394',\n",
              "   'http://www.w3.org/1999/xhtml/vocab#role': [{'@id': 'http://www.w3.org/1999/xhtml/vocab#banner'}]},\n",
              "  {'@id': 'https://www.liverpoolfc.com/',\n",
              "   'http://ogp.me/ns#image': [{'@value': ''}],\n",
              "   'http://ogp.me/ns#locale': [{'@value': 'en_GB'}],\n",
              "   'http://ogp.me/ns#title': [{'@value': 'Liverpool FC - Homepage'}],\n",
              "   'http://ogp.me/ns#type': [{'@value': 'website'}],\n",
              "   'http://ogp.me/ns#url': [{'@value': '//www.liverpoolfc.com/'}]}]}"
            ]
          },
          "metadata": {},
          "execution_count": 5
        }
      ]
    },
    {
      "cell_type": "markdown",
      "source": [
        "#Investigate whether the URL is using a specific metadata type"
      ],
      "metadata": {
        "id": "Izbmi8wCMIXC"
      }
    },
    {
      "cell_type": "code",
      "source": [
        "def uses_metadata_type(metadata, metadata_type):\n",
        "    if (metadata_type in metadata.keys()) and (len(metadata[metadata_type]) > 0):\n",
        "        return True\n",
        "    else:\n",
        "        return False"
      ],
      "metadata": {
        "id": "V75aUeHuG5-x"
      },
      "execution_count": null,
      "outputs": []
    },
    {
      "cell_type": "code",
      "source": [
        "uses_metadata_type(metadata, 'opengraph')"
      ],
      "metadata": {
        "colab": {
          "base_uri": "https://localhost:8080/"
        },
        "id": "c7oGKUReG-xk",
        "outputId": "7ffc5c81-1df8-4b1c-b8d1-172944c648d5"
      },
      "execution_count": null,
      "outputs": [
        {
          "output_type": "execute_result",
          "data": {
            "text/plain": [
              "True"
            ]
          },
          "metadata": {},
          "execution_count": 7
        }
      ]
    },
    {
      "cell_type": "code",
      "source": [
        "uses_metadata_type(metadata, 'rdfa')"
      ],
      "metadata": {
        "colab": {
          "base_uri": "https://localhost:8080/"
        },
        "id": "jRUgW33eHDWR",
        "outputId": "30b28344-ef07-4c24-ca5d-87bb6355ebd6"
      },
      "execution_count": null,
      "outputs": [
        {
          "output_type": "execute_result",
          "data": {
            "text/plain": [
              "True"
            ]
          },
          "metadata": {},
          "execution_count": 8
        }
      ]
    },
    {
      "cell_type": "code",
      "source": [
        "uses_metadata_type(metadata, 'json-ld')"
      ],
      "metadata": {
        "colab": {
          "base_uri": "https://localhost:8080/"
        },
        "id": "Wog5AqAMBB1e",
        "outputId": "d7cff6db-e8bf-403a-ed07-306c8a64b108"
      },
      "execution_count": null,
      "outputs": [
        {
          "output_type": "execute_result",
          "data": {
            "text/plain": [
              "True"
            ]
          },
          "metadata": {},
          "execution_count": 9
        }
      ]
    },
    {
      "cell_type": "code",
      "source": [
        "uses_metadata_type(metadata, 'microdata')"
      ],
      "metadata": {
        "colab": {
          "base_uri": "https://localhost:8080/"
        },
        "id": "74mWGJrdBHyi",
        "outputId": "d1c1a8f0-ed33-41b3-bc36-99c65ef4edd5"
      },
      "execution_count": null,
      "outputs": [
        {
          "output_type": "execute_result",
          "data": {
            "text/plain": [
              "False"
            ]
          },
          "metadata": {},
          "execution_count": 10
        }
      ]
    },
    {
      "cell_type": "code",
      "source": [
        "#@title Extract metadata usage for each site\n",
        "df = pd.DataFrame(columns = ['url', 'microdata', 'json-ld', 'opengraph', 'rdfa'])\n",
        "\n",
        "for url in sites:    \n",
        "    metadata = extract_metadata(url)\n",
        "    urldata = urlparse(url)\n",
        "\n",
        "    row = {\n",
        "        'url': urldata.netloc, \n",
        "        'microdata': uses_metadata_type(metadata, 'microdata'),\n",
        "        'json-ld': uses_metadata_type(metadata, 'json-ld'),\n",
        "        'opengraph': uses_metadata_type(metadata, 'opengraph'),\n",
        "        'rdfa': uses_metadata_type(metadata, 'rdfa')              \n",
        "    }\n",
        "\n",
        "    df = df.append(row, ignore_index=True)\n",
        "\n",
        "df.head(10).sort_values(by='microdata', ascending=False)"
      ],
      "metadata": {
        "colab": {
          "base_uri": "https://localhost:8080/",
          "height": 206
        },
        "id": "PCWWngt0HEu0",
        "outputId": "e256ad56-0eae-4cd1-d275-116342260b84",
        "cellView": "form"
      },
      "execution_count": null,
      "outputs": [
        {
          "output_type": "execute_result",
          "data": {
            "text/plain": [
              "                           url microdata json-ld opengraph  rdfa\n",
              "0          www.liverpoolfc.com     False    True      True  True\n",
              "1          www.liverpoolfc.com     False    True      True  True\n",
              "2       legacy.liverpoolfc.com     False   False      True  True\n",
              "3        video.liverpoolfc.com     False   False     False  True\n",
              "4  matchcentre.liverpoolfc.com     False   False      True  True"
            ],
            "text/html": [
              "\n",
              "  <div id=\"df-6a201829-153a-4bad-be7f-a8c2f98780c1\">\n",
              "    <div class=\"colab-df-container\">\n",
              "      <div>\n",
              "<style scoped>\n",
              "    .dataframe tbody tr th:only-of-type {\n",
              "        vertical-align: middle;\n",
              "    }\n",
              "\n",
              "    .dataframe tbody tr th {\n",
              "        vertical-align: top;\n",
              "    }\n",
              "\n",
              "    .dataframe thead th {\n",
              "        text-align: right;\n",
              "    }\n",
              "</style>\n",
              "<table border=\"1\" class=\"dataframe\">\n",
              "  <thead>\n",
              "    <tr style=\"text-align: right;\">\n",
              "      <th></th>\n",
              "      <th>url</th>\n",
              "      <th>microdata</th>\n",
              "      <th>json-ld</th>\n",
              "      <th>opengraph</th>\n",
              "      <th>rdfa</th>\n",
              "    </tr>\n",
              "  </thead>\n",
              "  <tbody>\n",
              "    <tr>\n",
              "      <th>0</th>\n",
              "      <td>www.liverpoolfc.com</td>\n",
              "      <td>False</td>\n",
              "      <td>True</td>\n",
              "      <td>True</td>\n",
              "      <td>True</td>\n",
              "    </tr>\n",
              "    <tr>\n",
              "      <th>1</th>\n",
              "      <td>www.liverpoolfc.com</td>\n",
              "      <td>False</td>\n",
              "      <td>True</td>\n",
              "      <td>True</td>\n",
              "      <td>True</td>\n",
              "    </tr>\n",
              "    <tr>\n",
              "      <th>2</th>\n",
              "      <td>legacy.liverpoolfc.com</td>\n",
              "      <td>False</td>\n",
              "      <td>False</td>\n",
              "      <td>True</td>\n",
              "      <td>True</td>\n",
              "    </tr>\n",
              "    <tr>\n",
              "      <th>3</th>\n",
              "      <td>video.liverpoolfc.com</td>\n",
              "      <td>False</td>\n",
              "      <td>False</td>\n",
              "      <td>False</td>\n",
              "      <td>True</td>\n",
              "    </tr>\n",
              "    <tr>\n",
              "      <th>4</th>\n",
              "      <td>matchcentre.liverpoolfc.com</td>\n",
              "      <td>False</td>\n",
              "      <td>False</td>\n",
              "      <td>True</td>\n",
              "      <td>True</td>\n",
              "    </tr>\n",
              "  </tbody>\n",
              "</table>\n",
              "</div>\n",
              "      <button class=\"colab-df-convert\" onclick=\"convertToInteractive('df-6a201829-153a-4bad-be7f-a8c2f98780c1')\"\n",
              "              title=\"Convert this dataframe to an interactive table.\"\n",
              "              style=\"display:none;\">\n",
              "        \n",
              "  <svg xmlns=\"http://www.w3.org/2000/svg\" height=\"24px\"viewBox=\"0 0 24 24\"\n",
              "       width=\"24px\">\n",
              "    <path d=\"M0 0h24v24H0V0z\" fill=\"none\"/>\n",
              "    <path d=\"M18.56 5.44l.94 2.06.94-2.06 2.06-.94-2.06-.94-.94-2.06-.94 2.06-2.06.94zm-11 1L8.5 8.5l.94-2.06 2.06-.94-2.06-.94L8.5 2.5l-.94 2.06-2.06.94zm10 10l.94 2.06.94-2.06 2.06-.94-2.06-.94-.94-2.06-.94 2.06-2.06.94z\"/><path d=\"M17.41 7.96l-1.37-1.37c-.4-.4-.92-.59-1.43-.59-.52 0-1.04.2-1.43.59L10.3 9.45l-7.72 7.72c-.78.78-.78 2.05 0 2.83L4 21.41c.39.39.9.59 1.41.59.51 0 1.02-.2 1.41-.59l7.78-7.78 2.81-2.81c.8-.78.8-2.07 0-2.86zM5.41 20L4 18.59l7.72-7.72 1.47 1.35L5.41 20z\"/>\n",
              "  </svg>\n",
              "      </button>\n",
              "      \n",
              "  <style>\n",
              "    .colab-df-container {\n",
              "      display:flex;\n",
              "      flex-wrap:wrap;\n",
              "      gap: 12px;\n",
              "    }\n",
              "\n",
              "    .colab-df-convert {\n",
              "      background-color: #E8F0FE;\n",
              "      border: none;\n",
              "      border-radius: 50%;\n",
              "      cursor: pointer;\n",
              "      display: none;\n",
              "      fill: #1967D2;\n",
              "      height: 32px;\n",
              "      padding: 0 0 0 0;\n",
              "      width: 32px;\n",
              "    }\n",
              "\n",
              "    .colab-df-convert:hover {\n",
              "      background-color: #E2EBFA;\n",
              "      box-shadow: 0px 1px 2px rgba(60, 64, 67, 0.3), 0px 1px 3px 1px rgba(60, 64, 67, 0.15);\n",
              "      fill: #174EA6;\n",
              "    }\n",
              "\n",
              "    [theme=dark] .colab-df-convert {\n",
              "      background-color: #3B4455;\n",
              "      fill: #D2E3FC;\n",
              "    }\n",
              "\n",
              "    [theme=dark] .colab-df-convert:hover {\n",
              "      background-color: #434B5C;\n",
              "      box-shadow: 0px 1px 3px 1px rgba(0, 0, 0, 0.15);\n",
              "      filter: drop-shadow(0px 1px 2px rgba(0, 0, 0, 0.3));\n",
              "      fill: #FFFFFF;\n",
              "    }\n",
              "  </style>\n",
              "\n",
              "      <script>\n",
              "        const buttonEl =\n",
              "          document.querySelector('#df-6a201829-153a-4bad-be7f-a8c2f98780c1 button.colab-df-convert');\n",
              "        buttonEl.style.display =\n",
              "          google.colab.kernel.accessAllowed ? 'block' : 'none';\n",
              "\n",
              "        async function convertToInteractive(key) {\n",
              "          const element = document.querySelector('#df-6a201829-153a-4bad-be7f-a8c2f98780c1');\n",
              "          const dataTable =\n",
              "            await google.colab.kernel.invokeFunction('convertToInteractive',\n",
              "                                                     [key], {});\n",
              "          if (!dataTable) return;\n",
              "\n",
              "          const docLinkHtml = 'Like what you see? Visit the ' +\n",
              "            '<a target=\"_blank\" href=https://colab.research.google.com/notebooks/data_table.ipynb>data table notebook</a>'\n",
              "            + ' to learn more about interactive tables.';\n",
              "          element.innerHTML = '';\n",
              "          dataTable['output_type'] = 'display_data';\n",
              "          await google.colab.output.renderOutput(dataTable, element);\n",
              "          const docLink = document.createElement('div');\n",
              "          docLink.innerHTML = docLinkHtml;\n",
              "          element.appendChild(docLink);\n",
              "        }\n",
              "      </script>\n",
              "    </div>\n",
              "  </div>\n",
              "  "
            ]
          },
          "metadata": {},
          "execution_count": 11
        }
      ]
    },
    {
      "cell_type": "markdown",
      "source": [
        "#Examine the specific metadata used"
      ],
      "metadata": {
        "id": "7XDXxfhBIBSs"
      }
    },
    {
      "cell_type": "code",
      "source": [
        "def key_exists(dict, key):\n",
        "\n",
        "    if not any(item['@type'] == key for item in dict):\n",
        "        return False\n",
        "    else:\n",
        "        return True   "
      ],
      "metadata": {
        "id": "T73RJzAnIF7R"
      },
      "execution_count": null,
      "outputs": []
    },
    {
      "cell_type": "markdown",
      "source": [
        "#Scrape specific metadata usage per site\n",
        "---\n",
        "We’re looping over the URLs, scraping the HTML, extracting the metadata, and then checking each key to see whether it is implemented by a given metadata type."
      ],
      "metadata": {
        "id": "x6hXt3jOJnAF"
      }
    },
    {
      "cell_type": "code",
      "source": [
        "metadata = extract_metadata('https://www.liverpoolfc.com/')\n",
        "metadata"
      ],
      "metadata": {
        "colab": {
          "base_uri": "https://localhost:8080/"
        },
        "id": "Z5UcSfa3ILnE",
        "outputId": "d66603ea-a1ad-4b4e-cbaa-4eac4f17863c"
      },
      "execution_count": null,
      "outputs": [
        {
          "output_type": "execute_result",
          "data": {
            "text/plain": [
              "{'json-ld': [{'@context': 'https://schema.org',\n",
              "   '@type': 'WebPage',\n",
              "   'breadcrumb': 'Home',\n",
              "   'headline': 'Liverpool FC - Homepage',\n",
              "   'publisher': {'@type': 'Organization',\n",
              "    'address': '5 St Paul’s Square, Liverpool, L3 9SLiverpool Football Club and Athletic Grounds Limited Anfield Road, Liverpool, L4 0TH.',\n",
              "    'description': \"Liverpool FC, LFC, is one of the world's most successful Football Clubs, with 48 major Mens Team Honours. LFC play in the Premier League in England, the Club was formed in 1892. Their home stadium is Anfield, Liverpool.\",\n",
              "    'email': 'contactus@liverpoolfc.com',\n",
              "    'logo': {'@type': 'ImageObject',\n",
              "     'height': '109',\n",
              "     'url': 'https://www.liverpoolfc.com/liverpoolfc_crest.png',\n",
              "     'width': '80'},\n",
              "    'name': 'Liverpool FC',\n",
              "    'url': 'https://www.liverpoolfc.com'}}],\n",
              " 'microdata': [],\n",
              " 'opengraph': [{'@context': {'og': 'http://ogp.me/ns#'},\n",
              "   '@type': 'website',\n",
              "   'og:locale': 'en_GB',\n",
              "   'og:title': 'Liverpool FC - Homepage',\n",
              "   'og:url': '//www.liverpoolfc.com/'}],\n",
              " 'rdfa': [{'@id': 'https://www.liverpoolfc.com/',\n",
              "   'http://ogp.me/ns#image': [{'@value': ''}],\n",
              "   'http://ogp.me/ns#locale': [{'@value': 'en_GB'}],\n",
              "   'http://ogp.me/ns#title': [{'@value': 'Liverpool FC - Homepage'}],\n",
              "   'http://ogp.me/ns#type': [{'@value': 'website'}],\n",
              "   'http://ogp.me/ns#url': [{'@value': '//www.liverpoolfc.com/'}]},\n",
              "  {'@id': '_:N606dde6b34514275ba05a82f1f537adb',\n",
              "   'http://www.w3.org/1999/xhtml/vocab#role': [{'@id': 'http://www.w3.org/1999/xhtml/vocab#banner'}]}]}"
            ]
          },
          "metadata": {},
          "execution_count": 14
        }
      ]
    },
    {
      "cell_type": "code",
      "source": [
        "df_specific = pd.DataFrame(columns = ['url', \n",
        "                                      'organization-json-ld', \n",
        "                                      'organization-microdata',                                   \n",
        "                                      'product-json-ld', \n",
        "                                      'product-microdata',                  \n",
        "                                      'offer-json-ld', \n",
        "                                      'offer-microdata',     \n",
        "                                      'review-json-ld', \n",
        "                                      'review-microdata',   \n",
        "                                      'aggregaterating-json-ld', \n",
        "                                      'aggregaterating-microdata',   \n",
        "                                      'breadcrumblist-json-ld', \n",
        "                                      'breadcrumblist-microdata',            \n",
        "                                     ])\n",
        "\n",
        "for url in sites:    \n",
        "    metadata = extract_metadata(url)\n",
        "    urldata = urlparse(url)\n",
        "\n",
        "\n",
        "    row = {\n",
        "        'url': urldata.netloc, \n",
        "        'organization-json-ld': key_exists(metadata['json-ld'], 'Organization'),\n",
        "        'organization-microdata': key_exists(metadata['microdata'], 'Organization'),\n",
        "        'product-json-ld': key_exists(metadata['json-ld'], 'Product'),\n",
        "        'product-microdata': key_exists(metadata['microdata'], 'Product'),\n",
        "        'offer-json-ld': key_exists(metadata['json-ld'], 'Offer'),\n",
        "        'offer-microdata': key_exists(metadata['microdata'], 'Offer'),\n",
        "        'review-json-ld': key_exists(metadata['json-ld'], 'Review'),\n",
        "        'review-microdata': key_exists(metadata['microdata'], 'Review'),\n",
        "        'aggregaterating-json-ld': key_exists(metadata['json-ld'], 'AggregateRating'),\n",
        "        'aggregaterating-microdata': key_exists(metadata['microdata'], 'AggregateRating'),\n",
        "        'breadcrumblist-json-ld': key_exists(metadata['json-ld'], 'BreadcrumbList'),\n",
        "        'breadcrumblist-microdata': key_exists(metadata['microdata'], 'BreadcrumbList'),\n",
        "    }\n",
        "\n",
        "    df_specific = df_specific.append(row, ignore_index=True)\n",
        "\n",
        "df_specific.sort_values(by='url', ascending=False).head(3).T\n"
      ],
      "metadata": {
        "colab": {
          "base_uri": "https://localhost:8080/",
          "height": 457
        },
        "id": "QFBTgPaLI-BK",
        "outputId": "77d2309d-0f2f-464b-d666-da8bab32bc49"
      },
      "execution_count": null,
      "outputs": [
        {
          "output_type": "execute_result",
          "data": {
            "text/plain": [
              "                                             0                    1  \\\n",
              "url                        www.liverpoolfc.com  www.liverpoolfc.com   \n",
              "organization-json-ld                     False                False   \n",
              "organization-microdata                   False                False   \n",
              "product-json-ld                          False                False   \n",
              "product-microdata                        False                False   \n",
              "offer-json-ld                            False                False   \n",
              "offer-microdata                          False                False   \n",
              "review-json-ld                           False                False   \n",
              "review-microdata                         False                False   \n",
              "aggregaterating-json-ld                  False                False   \n",
              "aggregaterating-microdata                False                False   \n",
              "breadcrumblist-json-ld                   False                False   \n",
              "breadcrumblist-microdata                 False                False   \n",
              "\n",
              "                                               3  \n",
              "url                        video.liverpoolfc.com  \n",
              "organization-json-ld                       False  \n",
              "organization-microdata                     False  \n",
              "product-json-ld                            False  \n",
              "product-microdata                          False  \n",
              "offer-json-ld                              False  \n",
              "offer-microdata                            False  \n",
              "review-json-ld                             False  \n",
              "review-microdata                           False  \n",
              "aggregaterating-json-ld                    False  \n",
              "aggregaterating-microdata                  False  \n",
              "breadcrumblist-json-ld                     False  \n",
              "breadcrumblist-microdata                   False  "
            ],
            "text/html": [
              "\n",
              "  <div id=\"df-a77a0d1a-da97-40d1-825c-a916efcc6436\">\n",
              "    <div class=\"colab-df-container\">\n",
              "      <div>\n",
              "<style scoped>\n",
              "    .dataframe tbody tr th:only-of-type {\n",
              "        vertical-align: middle;\n",
              "    }\n",
              "\n",
              "    .dataframe tbody tr th {\n",
              "        vertical-align: top;\n",
              "    }\n",
              "\n",
              "    .dataframe thead th {\n",
              "        text-align: right;\n",
              "    }\n",
              "</style>\n",
              "<table border=\"1\" class=\"dataframe\">\n",
              "  <thead>\n",
              "    <tr style=\"text-align: right;\">\n",
              "      <th></th>\n",
              "      <th>0</th>\n",
              "      <th>1</th>\n",
              "      <th>3</th>\n",
              "    </tr>\n",
              "  </thead>\n",
              "  <tbody>\n",
              "    <tr>\n",
              "      <th>url</th>\n",
              "      <td>www.liverpoolfc.com</td>\n",
              "      <td>www.liverpoolfc.com</td>\n",
              "      <td>video.liverpoolfc.com</td>\n",
              "    </tr>\n",
              "    <tr>\n",
              "      <th>organization-json-ld</th>\n",
              "      <td>False</td>\n",
              "      <td>False</td>\n",
              "      <td>False</td>\n",
              "    </tr>\n",
              "    <tr>\n",
              "      <th>organization-microdata</th>\n",
              "      <td>False</td>\n",
              "      <td>False</td>\n",
              "      <td>False</td>\n",
              "    </tr>\n",
              "    <tr>\n",
              "      <th>product-json-ld</th>\n",
              "      <td>False</td>\n",
              "      <td>False</td>\n",
              "      <td>False</td>\n",
              "    </tr>\n",
              "    <tr>\n",
              "      <th>product-microdata</th>\n",
              "      <td>False</td>\n",
              "      <td>False</td>\n",
              "      <td>False</td>\n",
              "    </tr>\n",
              "    <tr>\n",
              "      <th>offer-json-ld</th>\n",
              "      <td>False</td>\n",
              "      <td>False</td>\n",
              "      <td>False</td>\n",
              "    </tr>\n",
              "    <tr>\n",
              "      <th>offer-microdata</th>\n",
              "      <td>False</td>\n",
              "      <td>False</td>\n",
              "      <td>False</td>\n",
              "    </tr>\n",
              "    <tr>\n",
              "      <th>review-json-ld</th>\n",
              "      <td>False</td>\n",
              "      <td>False</td>\n",
              "      <td>False</td>\n",
              "    </tr>\n",
              "    <tr>\n",
              "      <th>review-microdata</th>\n",
              "      <td>False</td>\n",
              "      <td>False</td>\n",
              "      <td>False</td>\n",
              "    </tr>\n",
              "    <tr>\n",
              "      <th>aggregaterating-json-ld</th>\n",
              "      <td>False</td>\n",
              "      <td>False</td>\n",
              "      <td>False</td>\n",
              "    </tr>\n",
              "    <tr>\n",
              "      <th>aggregaterating-microdata</th>\n",
              "      <td>False</td>\n",
              "      <td>False</td>\n",
              "      <td>False</td>\n",
              "    </tr>\n",
              "    <tr>\n",
              "      <th>breadcrumblist-json-ld</th>\n",
              "      <td>False</td>\n",
              "      <td>False</td>\n",
              "      <td>False</td>\n",
              "    </tr>\n",
              "    <tr>\n",
              "      <th>breadcrumblist-microdata</th>\n",
              "      <td>False</td>\n",
              "      <td>False</td>\n",
              "      <td>False</td>\n",
              "    </tr>\n",
              "  </tbody>\n",
              "</table>\n",
              "</div>\n",
              "      <button class=\"colab-df-convert\" onclick=\"convertToInteractive('df-a77a0d1a-da97-40d1-825c-a916efcc6436')\"\n",
              "              title=\"Convert this dataframe to an interactive table.\"\n",
              "              style=\"display:none;\">\n",
              "        \n",
              "  <svg xmlns=\"http://www.w3.org/2000/svg\" height=\"24px\"viewBox=\"0 0 24 24\"\n",
              "       width=\"24px\">\n",
              "    <path d=\"M0 0h24v24H0V0z\" fill=\"none\"/>\n",
              "    <path d=\"M18.56 5.44l.94 2.06.94-2.06 2.06-.94-2.06-.94-.94-2.06-.94 2.06-2.06.94zm-11 1L8.5 8.5l.94-2.06 2.06-.94-2.06-.94L8.5 2.5l-.94 2.06-2.06.94zm10 10l.94 2.06.94-2.06 2.06-.94-2.06-.94-.94-2.06-.94 2.06-2.06.94z\"/><path d=\"M17.41 7.96l-1.37-1.37c-.4-.4-.92-.59-1.43-.59-.52 0-1.04.2-1.43.59L10.3 9.45l-7.72 7.72c-.78.78-.78 2.05 0 2.83L4 21.41c.39.39.9.59 1.41.59.51 0 1.02-.2 1.41-.59l7.78-7.78 2.81-2.81c.8-.78.8-2.07 0-2.86zM5.41 20L4 18.59l7.72-7.72 1.47 1.35L5.41 20z\"/>\n",
              "  </svg>\n",
              "      </button>\n",
              "      \n",
              "  <style>\n",
              "    .colab-df-container {\n",
              "      display:flex;\n",
              "      flex-wrap:wrap;\n",
              "      gap: 12px;\n",
              "    }\n",
              "\n",
              "    .colab-df-convert {\n",
              "      background-color: #E8F0FE;\n",
              "      border: none;\n",
              "      border-radius: 50%;\n",
              "      cursor: pointer;\n",
              "      display: none;\n",
              "      fill: #1967D2;\n",
              "      height: 32px;\n",
              "      padding: 0 0 0 0;\n",
              "      width: 32px;\n",
              "    }\n",
              "\n",
              "    .colab-df-convert:hover {\n",
              "      background-color: #E2EBFA;\n",
              "      box-shadow: 0px 1px 2px rgba(60, 64, 67, 0.3), 0px 1px 3px 1px rgba(60, 64, 67, 0.15);\n",
              "      fill: #174EA6;\n",
              "    }\n",
              "\n",
              "    [theme=dark] .colab-df-convert {\n",
              "      background-color: #3B4455;\n",
              "      fill: #D2E3FC;\n",
              "    }\n",
              "\n",
              "    [theme=dark] .colab-df-convert:hover {\n",
              "      background-color: #434B5C;\n",
              "      box-shadow: 0px 1px 3px 1px rgba(0, 0, 0, 0.15);\n",
              "      filter: drop-shadow(0px 1px 2px rgba(0, 0, 0, 0.3));\n",
              "      fill: #FFFFFF;\n",
              "    }\n",
              "  </style>\n",
              "\n",
              "      <script>\n",
              "        const buttonEl =\n",
              "          document.querySelector('#df-a77a0d1a-da97-40d1-825c-a916efcc6436 button.colab-df-convert');\n",
              "        buttonEl.style.display =\n",
              "          google.colab.kernel.accessAllowed ? 'block' : 'none';\n",
              "\n",
              "        async function convertToInteractive(key) {\n",
              "          const element = document.querySelector('#df-a77a0d1a-da97-40d1-825c-a916efcc6436');\n",
              "          const dataTable =\n",
              "            await google.colab.kernel.invokeFunction('convertToInteractive',\n",
              "                                                     [key], {});\n",
              "          if (!dataTable) return;\n",
              "\n",
              "          const docLinkHtml = 'Like what you see? Visit the ' +\n",
              "            '<a target=\"_blank\" href=https://colab.research.google.com/notebooks/data_table.ipynb>data table notebook</a>'\n",
              "            + ' to learn more about interactive tables.';\n",
              "          element.innerHTML = '';\n",
              "          dataTable['output_type'] = 'display_data';\n",
              "          await google.colab.output.renderOutput(dataTable, element);\n",
              "          const docLink = document.createElement('div');\n",
              "          docLink.innerHTML = docLinkHtml;\n",
              "          element.appendChild(docLink);\n",
              "        }\n",
              "      </script>\n",
              "    </div>\n",
              "  </div>\n",
              "  "
            ]
          },
          "metadata": {},
          "execution_count": 15
        }
      ]
    }
  ]
}